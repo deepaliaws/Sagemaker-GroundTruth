{
 "cells": [
  {
   "cell_type": "code",
   "execution_count": 8,
   "id": "b9fdc18b",
   "metadata": {},
   "outputs": [],
   "source": [
    "from convert_video_to_augmented import *"
   ]
  },
  {
   "cell_type": "code",
   "execution_count": 7,
   "id": "1902aaa1",
   "metadata": {},
   "outputs": [
    {
     "data": {
      "text/plain": [
       "{'LabelingJobStatus': 'Completed',\n",
       " 'LabelCounters': {'TotalLabeled': 1,\n",
       "  'HumanLabeled': 1,\n",
       "  'MachineLabeled': 0,\n",
       "  'FailedNonRetryableError': 0,\n",
       "  'Unlabeled': 0},\n",
       " 'CreationTime': datetime.datetime(2020, 8, 30, 3, 49, 46, 345000, tzinfo=tzlocal()),\n",
       " 'LastModifiedTime': datetime.datetime(2020, 8, 31, 21, 38, 33, 542000, tzinfo=tzlocal()),\n",
       " 'JobReferenceCode': '980457846850qvPfIqWlDmmAZkNg',\n",
       " 'LabelingJobName': 'NFL-5788-000634-endzone-vot',\n",
       " 'LabelingJobArn': 'arn:aws:sagemaker:us-west-2:980457846850:labeling-job/nfl-5788-000634-endzone-vot',\n",
       " 'LabelAttributeName': 'NFL-5788-000634-endzone-vot-ref',\n",
       " 'InputConfig': {'DataSource': {'S3DataSource': {'ManifestS3Uri': 's3://pdx-nfl-bucket/nfl_videos/5788_000634_endzone/dataset-20200829T203532.manifest'}},\n",
       "  'DataAttributes': {'ContentClassifiers': []}},\n",
       " 'OutputConfig': {'S3OutputPath': 's3://pdx-nfl-bucket/nfl_videos/5788_000634_endzone/',\n",
       "  'KmsKeyId': ''},\n",
       " 'RoleArn': 'arn:aws:iam::980457846850:role/service-role/AmazonSageMaker-ExecutionRole-20180309T143737',\n",
       " 'LabelCategoryConfigS3Uri': 's3://pdx-nfl-bucket/nfl_videos/5788_000634_endzone/NFL-5788-000634-endzone-vot/annotation-tool/data.json',\n",
       " 'StoppingConditions': {'MaxPercentageOfInputDatasetLabeled': 100},\n",
       " 'HumanTaskConfig': {'WorkteamArn': 'arn:aws:sagemaker:us-west-2:980457846850:workteam/private-crowd/iVision-LIDAR',\n",
       "  'UiConfig': {'HumanTaskUiArn': 'arn:aws:sagemaker:us-west-2:394669845002:human-task-ui/VideoObjectTracking'},\n",
       "  'PreHumanTaskLambdaArn': 'arn:aws:lambda:us-west-2:081040173940:function:PRE-VideoObjectTracking',\n",
       "  'TaskKeywords': ['Video', 'tracking'],\n",
       "  'TaskTitle': 'Track objects across video frames: NFL-5788-000634-endzone',\n",
       "  'TaskDescription': 'Video object tracking',\n",
       "  'NumberOfHumanWorkersPerDataObject': 1,\n",
       "  'TaskTimeLimitInSeconds': 28800,\n",
       "  'TaskAvailabilityLifetimeInSeconds': 864000,\n",
       "  'MaxConcurrentTaskCount': 1000,\n",
       "  'AnnotationConsolidationConfig': {'AnnotationConsolidationLambdaArn': 'arn:aws:lambda:us-west-2:081040173940:function:ACS-VideoObjectTracking'}},\n",
       " 'Tags': [],\n",
       " 'LabelingJobOutput': {'OutputDatasetS3Uri': 's3://pdx-nfl-bucket/nfl_videos/5788_000634_endzone/NFL-5788-000634-endzone-vot/manifests/output/output.manifest',\n",
       "  'FinalActiveLearningModelArn': ''},\n",
       " 'ResponseMetadata': {'RequestId': 'eb1f5a6f-5877-48a4-9fe4-acd1b983cb86',\n",
       "  'HTTPStatusCode': 200,\n",
       "  'HTTPHeaders': {'x-amzn-requestid': 'eb1f5a6f-5877-48a4-9fe4-acd1b983cb86',\n",
       "   'content-type': 'application/x-amz-json-1.1',\n",
       "   'content-length': '2014',\n",
       "   'date': 'Tue, 07 Dec 2021 15:11:46 GMT'},\n",
       "  'RetryAttempts': 0}}"
      ]
     },
     "execution_count": 7,
     "metadata": {},
     "output_type": "execute_result"
    }
   ],
   "source": [
    "#Getting the label attribute name from the response\n",
    "import boto3\n",
    "\n",
    "client = boto3.client('sagemaker')\n",
    "response = client.describe_labeling_job(\n",
    "    LabelingJobName='NFL-5788-000634-endzone-vot'\n",
    ")\n",
    "response"
   ]
  },
  {
   "cell_type": "code",
   "execution_count": 9,
   "id": "0c1e3668",
   "metadata": {},
   "outputs": [],
   "source": [
    "aug_manifest = make_od_input_manifest(label_attribute_name=\"NFL-5788-000634-endzone-vot-ref\",\n",
    "                       output_manifest_s3_uri=\"s3://pdx-nfl-bucket/nfl_videos/5788_000634_endzone/NFL-5788-000634-endzone-vot/manifests/output/output.manifest\")\n"
   ]
  },
  {
   "cell_type": "code",
   "execution_count": 10,
   "id": "98efad0b",
   "metadata": {},
   "outputs": [],
   "source": [
    "with open('augumented_manifest.json','w') as fa:\n",
    "    for entry in aug_manifest:\n",
    "        fa.write(json.dumps(entry))\n",
    "        fa.write(\"\\n\")\n",
    "    fa.close()"
   ]
  },
  {
   "cell_type": "code",
   "execution_count": null,
   "id": "fa237481",
   "metadata": {},
   "outputs": [],
   "source": []
  }
 ],
 "metadata": {
  "kernelspec": {
   "display_name": "conda_python3",
   "language": "python",
   "name": "conda_python3"
  },
  "language_info": {
   "codemirror_mode": {
    "name": "ipython",
    "version": 3
   },
   "file_extension": ".py",
   "mimetype": "text/x-python",
   "name": "python",
   "nbconvert_exporter": "python",
   "pygments_lexer": "ipython3",
   "version": "3.6.13"
  }
 },
 "nbformat": 4,
 "nbformat_minor": 5
}
